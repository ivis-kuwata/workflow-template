{
 "cells": [
  {
   "cell_type": "markdown",
   "id": "4b6b7c2a",
   "metadata": {},
   "source": [
    "# ユーザ認証・データ同期の設定を行う\n",
    "\n",
    "データガバナンス機能のユーザ認証・データ同期の設定を行います。本手順は、ワークフロー機能の起動毎に実行してください。  \n",
    "以下の手順に則り、作業を進めてください。"
   ]
  },
  {
   "cell_type": "markdown",
   "id": "396fd7ef",
   "metadata": {},
   "source": [
    "## １．ユーザーの認証を行う\n",
    "\n",
    "この手順では、あなたのユーザ情報をシステムに認証させる手続きを行います。  \n",
    "以下のセルを実行し、画面の表示に沿ってデータガバナンス機能に登録したユーザー名、パスワード、メールアドレスを入力してください。\n",
    "\n",
    "### ◆◆◆開発メモ◆◆◆\n",
    "ゆくゆくはSSOに対応し、コンテナ立ち上げ毎のユーザー名、パスワード、メールアドレスの入力を避けたい"
   ]
  },
  {
   "cell_type": "code",
   "execution_count": null,
   "id": "b8192cc3",
   "metadata": {},
   "outputs": [],
   "source": [
    "import os\n",
    "import json\n",
    "import time\n",
    "import getpass\n",
    "import requests\n",
    "\n",
    "from IPython.display import clear_output\n",
    "from requests.auth import HTTPBasicAuth\n",
    "from http import HTTPStatus\n",
    "\n",
    "from scripts import utils\n",
    "\n",
    "# 以下の認証の手順で用いる、\n",
    "# GINのドメイン名等をパラメタファイルから取得する\n",
    "params = {}\n",
    "with open(utils.fetch_param_file_path(), mode='r') as f:\n",
    "    params = json.load(f)\n",
    "\n",
    "tokens = []\n",
    "access_token = {}\n",
    "\n",
    "# 正常に認証が終わるまで繰り返し\n",
    "while True:\n",
    "    name = input(\"ユーザー名：\")\n",
    "    password = getpass.getpass(\"パスワード：\")\n",
    "    email = input(\"メールアドレス：\")\n",
    "    clear_output()\n",
    "    \n",
    "    # GIN API Basic Authentication\n",
    "    # refs: https://docs.python-requests.org/en/master/user/authentication/\n",
    "    \n",
    "    # 既存のトークンがあるか確認する\n",
    "    response = requests.get(params['siblings']['ginHttp']+'api/v1/users/' + name + '/tokens', auth=(name, password))\n",
    "    if response.status_code == HTTPStatus.UNAUTHORIZED:\n",
    "        print(\"ユーザ名、またはパスワードが間違っています。\\n恐れ入りますがもう一度ご入力ください。\")\n",
    "        continue\n",
    "    \n",
    "    tokens = response.json()\n",
    "    if len(tokens) >= 1:\n",
    "        access_token = response.json()[-1]\n",
    "        clear_output()\n",
    "        break\n",
    "    elif len(tokens) < 1:\n",
    "        # 既存のトークンがなければ作成する\n",
    "        response = requests.post(params['siblings']['ginHttp']+'api/v1/users/' + name + '/tokens', data={\"name\": \"system-generated\"} ,auth=(name, password))\n",
    "        if response.status_code == HTTPStatus.CREATED:\n",
    "            access_token = response.json()\n",
    "            clear_output()\n",
    "            break\n",
    "    \n",
    "!git config --global user.name $name\n",
    "!git config --global user.email $email\n",
    "!cp ~/.gitconfig ~/WORKFLOW/PACKAGE/.gitconfig\n",
    "\n",
    "print(\"認証が正常に完了しました。次の手順へお進みください。\")"
   ]
  },
  {
   "cell_type": "markdown",
   "id": "47ab2ef7",
   "metadata": {
    "heading_collapsed": true
   },
   "source": [
    "## 2. データ同期のための設定をする\n",
    "\n",
    "下に表示されている矢印ボタンをクリックし、データガバナンス機能とデータを同期するための準備をしてください。"
   ]
  },
  {
   "cell_type": "code",
   "execution_count": null,
   "id": "312e1feb",
   "metadata": {
    "hidden": true
   },
   "outputs": [],
   "source": [
    "%%bash\n",
    "#!/bin/bash\n",
    "if [ ! -e ~/.ssh/id_ed25519 ]; then\n",
    "    # 鍵ペアが無ければ作成\n",
    "    ssh-keygen -t ed25519 -N \"\" -f ~/.ssh/id_ed25519\n",
    "fi\n",
    "if [ ! -d ~/.datalad/ ]; then\n",
    "    # Dataladのデータセットでなければデータセット化する\n",
    "    datalad create --force /home/jovyan\n",
    "fi"
   ]
  },
  {
   "cell_type": "code",
   "execution_count": null,
   "id": "55a949e7",
   "metadata": {
    "hidden": true
   },
   "outputs": [],
   "source": [
    "# 公開鍵アップロード\n",
    "# refs: https://github.com/gogs/docs-api/blob/master/Users/Public%20Keys.md#create-a-public-key\n",
    "import os\n",
    "import requests\n",
    "import time\n",
    "from http import HTTPStatus\n",
    "\n",
    "import json\n",
    "from scripts import utils\n",
    "\n",
    "pubkey = !cat ~/.ssh/id_ed25519.pub\n",
    "\n",
    "# 認証時に取得したトークンを使ってPOSTリクエスト\n",
    "response = requests.post(\n",
    "                params['siblings']['ginHttp']+'api/v1/user/keys?token=' + access_token['sha1'],\n",
    "                data={\n",
    "                    \"title\": \"system-generated-\"+str(time.time()),\n",
    "                    \"key\": pubkey[0]\n",
    "                })\n",
    "msg = response.json()\n",
    "\n",
    "# コンテナを消す際にコンテナとつなぐための公開鍵も削除のため、\n",
    "# パラメータとしてGINから発行された鍵IDを保存\n",
    "if response.status_code == HTTPStatus.CREATED:\n",
    "    # params.jsonへの追記（鍵ID）\n",
    "    params['ginKeyId'] = str(response.json()['id'])\n",
    "    with open(utils.fetch_param_file_path(), mode='w') as f:\n",
    "        json.dump(params, f, indent=4)\n",
    "    print('Public key is ready.')\n",
    "elif msg['message'] == 'Key content has been used as non-deploy key':\n",
    "    print('Public key is ready before time.')"
   ]
  },
  {
   "cell_type": "code",
   "execution_count": null,
   "id": "e9d09497",
   "metadata": {
    "hidden": true
   },
   "outputs": [],
   "source": [
    "# sibling url をsshに変更する\n",
    "import os\n",
    "import tempfile\n",
    "from datalad import api\n",
    "from IPython.display import clear_output\n",
    "\n",
    "remote_info = 'remote.txt'\n",
    "\n",
    "with tempfile.TemporaryDirectory() as tmpdir:\n",
    "    # 使い終わったらPython側で消してくれるTemporaryDirectoryを利用\n",
    "    # refs: https://qiita.com/everylittle/items/aa7c6f612ff0a9db7f01\n",
    "    tmppath = os.path.join(tmpdir, remote_info)\n",
    "    !git remote show origin > $tmppath\n",
    "    with open(tmppath, 'r') as f:\n",
    "        lines = [s.strip() for s in f.readlines()]\n",
    "        \n",
    "        # FIXME: GitHub等リポジトリにも対応するためハードコーディングを解消\n",
    "        ssh_push_url = lines[2].replace('Push  URL: http://dg02.dg.rcos.nii.ac.jp/', 'ssh://root@dg02.dg.rcos.nii.ac.jp:3001/') \n",
    "\n",
    "api.siblings(action='add', name='gin', url=ssh_push_url)\n",
    "clear_output()\n",
    "print('SSH connection is ready.')"
   ]
  },
  {
   "cell_type": "markdown",
   "id": "771fbbaf",
   "metadata": {
    "heading_collapsed": true
   },
   "source": [
    "## 3. 実行結果をデータガバナンス機能に同期する\n",
    "\n",
    "下に表示されている矢印ボタンをクリックし、ここまでの内容をデータガバナンス機能に同期してください。"
   ]
  },
  {
   "cell_type": "code",
   "execution_count": null,
   "id": "c15ef7a0",
   "metadata": {
    "hidden": true
   },
   "outputs": [],
   "source": [
    "# SSHホスト（＝GIN）を信頼する設定\n",
    "# ドメイン名がハードコーディングにつき要修正\n",
    "with open('/home/jovyan/.ssh/config', mode='w') as f:\n",
    "    f.write('host dg02.dg.rcos.nii.ac.jp\\n\\tStrictHostKeyChecking no\\n\\tUserKnownHostsFile=/dev/null\\n')"
   ]
  },
  {
   "cell_type": "code",
   "execution_count": null,
   "id": "5abba0fe",
   "metadata": {
    "hidden": true
   },
   "outputs": [],
   "source": [
    "import papermill as pm\n",
    "\n",
    "%cd ~/WORKFLOW/FLOW/util\n",
    "pm.execute_notebook(\n",
    "    './base_datalad_save_push.ipynb',\n",
    "    '/home/jovyan/.local/push_log.ipynb',\n",
    "    parameters = dict(SAVE_MESSAGE = '[GIN] 研究リポジトリ初期設定を完了', TO_GIT=True)\n",
    ")\n",
    "print('データ同期が完了しました。')\n"
   ]
  },
  {
   "cell_type": "markdown",
   "id": "845ce791",
   "metadata": {},
   "source": [
    "## 4. ワークフロー機能を利用するために一覧画面に戻る\n",
    "\n",
    "[こちら](../base_FLOW.ipynb) をクリックし、ワークフロー機能を利用するための一覧画面に遷移してください。"
   ]
  }
 ],
 "metadata": {
  "kernelspec": {
   "display_name": "Python 3 (ipykernel)",
   "language": "python",
   "name": "python3"
  },
  "language_info": {
   "codemirror_mode": {
    "name": "ipython",
    "version": 3
   },
   "file_extension": ".py",
   "mimetype": "text/x-python",
   "name": "python",
   "nbconvert_exporter": "python",
   "pygments_lexer": "ipython3",
   "version": "3.9.7"
  }
 },
 "nbformat": 4,
 "nbformat_minor": 5
}
