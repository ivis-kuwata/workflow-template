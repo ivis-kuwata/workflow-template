{
 "cells": [
  {
   "cell_type": "markdown",
   "metadata": {},
   "source": [
    "# S3準拠オブジェクトストレージを大容量データの保管場所として使う\n",
    "\n",
    "このNotebookは[AWS S3](https://aws.amazon.com/jp/s3/)に準拠したオブジェクトストレージを大容量データの保管場所として利用する際のサポートを提供します。"
   ]
  },
  {
   "cell_type": "markdown",
   "metadata": {},
   "source": [
    "## ０．オブジェクトストレージとの接続設定をする\n",
    "\n",
    "データ保管の場所として、オブジェクトストレージをシステムが認識するための設定を行います。\n",
    "\n",
    "※ここでは、適切なキーとシークレットアクセスキーとのIDが必要です。詳しくは、各オブジェクトストレージのドキュメントをご覧いただくか、各管理者にお問い合わせください。"
   ]
  },
  {
   "cell_type": "code",
   "execution_count": null,
   "metadata": {},
   "outputs": [],
   "source": [
    "import ipywidgets as widgets\n",
    "from IPython.display import display\n",
    "\n",
    "def on_click_callback(clicked_button: widgets.Button) -> str:\n",
    "    with output:\n",
    "        output.clear_output()\n",
    "        # セレクタで選択されているアイテムを使う\n",
    "        print(f'{select.value}が選択されました。')\n",
    "        print('次のセルでは、このオブジェクトストレージへの接続処理を進めます。')\n",
    "        print('選択したストレージでよろしければ、次のセルの実行へお進みください。')\n",
    "        print('もし選び直す場合は、もう一度上のボックスから選択した後、「決定」ボタンを押してください。')\n",
    "        \n",
    "print('どのオブジェクトストレージを使いますか？')\n",
    "print('\\t※AWS S3: Amazon Web Service上で稼働するストレージ\\n\\t  mdx S3: mdx環境上で稼働するストレージ')\n",
    "\n",
    "list_s3 = ['AWS S3', 'mdx S3']\n",
    "\n",
    "# select.valueの値を次のセルで処理の場合分けに利用する\n",
    "select = widgets.Select(options=list_s3)\n",
    "button = widgets.Button(description='決　定')\n",
    "button.on_click(on_click_callback)\n",
    "\n",
    "output = widgets.Output(layour={'border': '1px solid black'})\n",
    "\n",
    "display(select, button, output)"
   ]
  },
  {
   "cell_type": "code",
   "execution_count": null,
   "metadata": {},
   "outputs": [],
   "source": [
    "import os\n",
    "import sys\n",
    "import select\n",
    "\n",
    "os.environ['AWS_ACCESS_KEY_ID'] = input('アクセスキーID: ')\n",
    "os.environ['AWS_SECRET_ACCESS_KEY'] = input('シークレットアクセスキー: ')"
   ]
  },
  {
   "cell_type": "code",
   "execution_count": null,
   "metadata": {},
   "outputs": [],
   "source": [
    "# Note: 前のセルから、select.valueを利用している\n",
    "\n",
    "import time\n",
    "\n",
    "# 次のセルでも利用する変数のため、関数の外で宣言している\n",
    "special_remote_name = 's3remote'\n",
    "\n",
    "def connect_s3_storage():\n",
    "    bucket_name = special_remote_name + str(time.time())\n",
    "\n",
    "    try:\n",
    "        if select.value == 'AWS S3':\n",
    "            # for Amazon Web Service(AWS) S3\n",
    "            !git-annex initremote $special_remote_name type=S3 bucket=$bucket_name encryption=none autoenable=true\n",
    "        elif select.value == 'mdx S3':\n",
    "            # for mdx(s3ds.mdx.jp) S3\n",
    "            !git-annex initremote $special_remote_name type=S3 port=443 host=s3ds.mdx.jp bucket=$bucket_name encryption=none signature=v2 requeststyle=path autoenable=true\n",
    "        else:\n",
    "            raise ValueError('select.value is wrong: ' + select.value) \n",
    "        print(select.value + 'への接続設定が完了しました。')\n",
    "    except:\n",
    "        print('処理を完了できませんでした。\\n利用するオブジェクトストレージが選択されていない可能性があります。')\n",
    "        print('前のセルを実行いただき、利用したいオブジェクトストレージを選んでください。')\n",
    "        print('もし選択してもこのメッセージが表示されている場合、恐れ入りますがデータガバナンス機能ヘルプセンター（仮）へお問い合わせください。')\n",
    "        return\n",
    "\n",
    "if __name__ == '__main__':\n",
    "    connect_s3_storage()"
   ]
  },
  {
   "cell_type": "markdown",
   "metadata": {},
   "source": [
    "## 1-A. 実データをオブジェクトストレージへ保存する\n",
    "\n",
    "この手順では、「０．オブジェクトストレージとの接続設定をする」で設定したオブジェクトストレージへ、実データをアップロードする処理のサポートを提供します。\n",
    "\n",
    "（ここに改めてgit-annexのデータの扱い方の前提を書く）"
   ]
  },
  {
   "cell_type": "code",
   "execution_count": null,
   "metadata": {},
   "outputs": [],
   "source": [
    "# Note: 前のセルで宣言した変数special_remote_nameを利用している\n",
    "# level 0: git-annex管理下のすべての実データをアップロード\n",
    "import papermill as pm\n",
    "\n",
    "# Git-annex管理するパスの配列を作成する\n",
    "annexed_save_path = ['input_data', 'output_data']\n",
    "\n",
    "%cd ~/WORKFLOW/FLOW/util\n",
    "pm.execute_notebook(\n",
    "    './base_datalad_save_push.ipynb',\n",
    "    '/home/jovyan/.local/push_log.ipynb',\n",
    "    parameters = dict(SIBLING_NAME=special_remote_name, SAVE_MESSAGE='[GIN] データを保存', PATH=annexed_save_path, TO_GIT=False)\n",
    ")\n",
    "print('データ同期が完了しました。')"
   ]
  },
  {
   "cell_type": "markdown",
   "metadata": {},
   "source": [
    "## 1-B. 実データをオブジェクトストレージから取得する\n",
    "\n",
    "この手順では、「０．オブジェクトストレージとの接続設定をする」で設定したオブジェクトストレージから、実データをダウンロードする処理のサポートを提供します。"
   ]
  },
  {
   "cell_type": "code",
   "execution_count": null,
   "metadata": {},
   "outputs": [],
   "source": [
    "# datalad get?"
   ]
  }
 ],
 "metadata": {
  "language_info": {
   "name": "python"
  },
  "orig_nbformat": 4
 },
 "nbformat": 4,
 "nbformat_minor": 2
}
