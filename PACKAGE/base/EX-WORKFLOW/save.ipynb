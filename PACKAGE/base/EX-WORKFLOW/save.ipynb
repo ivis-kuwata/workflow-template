{
 "cells": [
  {
   "cell_type": "markdown",
   "metadata": {},
   "source": [
    "# データガバナンス機能に途中保存する\n",
    "\n",
    "実験終了前の段階で実験をデータガバナンス機能に途中保存します。  \n",
    "上から順番に実行してください。"
   ]
  },
  {
   "cell_type": "markdown",
   "metadata": {},
   "source": [
    "## 1. コミットメッセージを変数に入力する\n",
    "\n",
    "以下のセルを実行して、実験作業のログとして残す短いメッセージを入力してください。  \n",
    "※入力値に誤りがある場合、もう一度実行することで訂正ができます。"
   ]
  },
  {
   "cell_type": "code",
   "execution_count": null,
   "metadata": {},
   "outputs": [],
   "source": [
    "message = input()"
   ]
  },
  {
   "cell_type": "markdown",
   "metadata": {},
   "source": [
    "## 2. 高性能実験環境から実験記録を取得する\n",
    "\n",
    "高性能実験環境を利用している場合には、以下のセルを実行してください。"
   ]
  },
  {
   "cell_type": "code",
   "execution_count": null,
   "metadata": {},
   "outputs": [],
   "source": [
    "# !chmod -R 755 /home/jovyan/input_data/*/.git/annex/objects\n",
    "\n",
    "import os\n",
    "tmp = os.environ[\"BINDER_REF_URL\"]\n",
    "tmp = tmp.split(\"/\")\n",
    "tmp = tmp[len(tmp) - 1]\n",
    "repo_name = tmp[:tmp.find(\".\")]\n",
    "\n",
    "!datalad uninstall -r /home/jovyan/input_data/*\n",
    "!git-annex unannex ~/input_data/*\n",
    "!git-annex unannex ~/output_data/*\n",
    "!git-annex unannex ~/source/*\n",
    "\n",
    "# !rm -rf ~/input_data/*\n",
    "# !rm -rf ~/output_data/*\n",
    "# !rm -rf ~/source/*\n",
    "\n",
    "!rm -r ~/input_data/*\n",
    "!rm -r ~/output_data/*\n",
    "!rm -r ~/source/*\n",
    "\n",
    "!scp -r mdx:~/$repo_name/input_data/* ~/input_data/\n",
    "!scp -r mdx:~/$repo_name/output_data/* ~/output_data/\n",
    "!scp -r mdx:~/$repo_name/source/* ~/source/\n",
    "    \n",
    "print('============================================================')\n",
    "print('mdx環境からの実験データと実験実行コードの転送が完了しました。')"
   ]
  },
  {
   "cell_type": "markdown",
   "metadata": {},
   "source": [
    "## 3. 実験をデータガバナンス機能に途中保存する"
   ]
  },
  {
   "cell_type": "code",
   "execution_count": null,
   "metadata": {},
   "outputs": [],
   "source": [
    "from IPython.display import display, Javascript\n",
    "display(Javascript('IPython.notebook.save_checkpoint();'))"
   ]
  },
  {
   "cell_type": "code",
   "execution_count": null,
   "metadata": {},
   "outputs": [],
   "source": [
    "import os\n",
    "import glob\n",
    "\n",
    "# Git管理のパスのリストを作成する\n",
    "%cd ~/\n",
    "files = os.listdir()\n",
    "# ディレクトリ一覧からGit-annex管理するディレクトリ(input_dataとoutput_data)を排除する\n",
    "dirs = [f for f in files if os.path.isdir(f)]\n",
    "dirs.remove('input_data')\n",
    "dirs.remove('output_data')\n",
    "# HOME直下のファイルを取得\n",
    "files = [f for f in files if os.path.isfile(f)]\n",
    "# Git管理するパスの配列を作成する\n",
    "files.extend(dirs)\n",
    "save_path = files\n",
    "\n",
    "# Git-annex管理するパスの配列を作成する\n",
    "annexed_save_path = ['input_data', 'output_data']"
   ]
  },
  {
   "cell_type": "code",
   "execution_count": null,
   "metadata": {},
   "outputs": [],
   "source": [
    "import papermill as pm\n",
    "\n",
    "%cd ~/\n",
    "# Git-annex管理ファイルを保存\n",
    "pm.execute_notebook(\n",
    "    'EX-WORKFLOW/util/base_datalad_save_push.ipynb',\n",
    "    '/home/jovyan/.local/push_log.ipynb',\n",
    "    parameters = dict(SAVE_MESSAGE = message + ' (1/2)', PATH = annexed_save_path, IS_RECURSIVE = False)\n",
    ")"
   ]
  },
  {
   "cell_type": "code",
   "execution_count": null,
   "metadata": {},
   "outputs": [],
   "source": [
    "import papermill as pm\n",
    "\n",
    "%cd ~/\n",
    "# Git管理ファイルを保存\n",
    "pm.execute_notebook(\n",
    "    'EX-WORKFLOW/util/base_datalad_save_push.ipynb',\n",
    "    '/home/jovyan/.local/push_log.ipynb',\n",
    "    parameters = dict(SAVE_MESSAGE = message + ' (2/2)', TO_GIT = True, PATH = save_path, IS_RECURSIVE = False)\n",
    ")"
   ]
  },
  {
   "cell_type": "markdown",
   "metadata": {},
   "source": [
    "## 4. 実験中ワークフロー機能トップページに遷移する\n",
    "\n",
    "続けてワークフロー機能を実行する場合は、[こちら](../experiment.ipynb)からトップページに遷移できます。  "
   ]
  }
 ],
 "metadata": {
  "kernelspec": {
   "display_name": "Python 3 (ipykernel)",
   "language": "python",
   "name": "python3"
  },
  "language_info": {
   "codemirror_mode": {
    "name": "ipython",
    "version": 3
   },
   "file_extension": ".py",
   "mimetype": "text/x-python",
   "name": "python",
   "nbconvert_exporter": "python",
   "pygments_lexer": "ipython3",
   "version": "3.7.10"
  }
 },
 "nbformat": 4,
 "nbformat_minor": 4
}
