{
 "cells": [
  {
   "cell_type": "markdown",
   "metadata": {},
   "source": [
    "# FLOW\n",
    "\n",
    "研究の準備、実施、公開までの研究者のワークフロー実施を支援する  \n",
    "初期フェーズから中期フェーズ、後期フェーズの順に進み、各フェーズで必要なセクションを研究者自身が実行する想定"
   ]
  },
  {
   "cell_type": "markdown",
   "metadata": {},
   "source": [
    "## 0. データガバナンス機能と連携する"
   ]
  },
  {
   "cell_type": "markdown",
   "metadata": {},
   "source": [
    "[書き戻しの準備をする](../SECTIONS/util/create_params_for_push.ipynb)"
   ]
  },
  {
   "cell_type": "markdown",
   "metadata": {},
   "source": [
    "## 1. 初期フェーズ\n",
    "初期フェーズでは実験前の準備をサポートする"
   ]
  },
  {
   "cell_type": "markdown",
   "metadata": {},
   "source": [
    "||||||\n",
    "|:---:|:---:|:---:|:---:|:---:|\n",
    "|[GakuNin RDMと連携する](../SECTIONS/01_preparation_phase/work_with_GakuNinRDM.ipynb)|[研究用のフォルダ構成を初期化する](../SECTIONS/01_preparation_phase/init_research_repo.ipynb)|[データクリーニングツールを準備する](../SECTIONS/01_preparation_phase/setup_data_cleaning_tools.ipynb)|[データ分析ツールを準備する](../SECTIONS/01_preparation_phase/setup_data_analysis_tools.ipynb)|[解析基盤でR言語を使う準備をする](../SECTIONS/01_preparation_phase/setup_r_kernel.ipynb)|"
   ]
  },
  {
   "cell_type": "markdown",
   "metadata": {},
   "source": [
    "## 2. 中期フェーズ\n",
    "中期フェーズでは実験の試行錯誤や再現性の確保をサポートする"
   ]
  },
  {
   "cell_type": "markdown",
   "metadata": {},
   "source": [
    "||||||\n",
    "|:---:|:---:|:---:|:---:|:---:|\n",
    "|[実験を実行する](../SECTIONS/02_experimental_phase/launch_an_experiment.ipynb)|[研究リポジトリをモニタリングする](../SECTIONS/02_experimental_phase/monitor_repository.ipynb)|[実験に依存関係を定義する](../SECTIONS/02_experimental_phase/define_experimental_dependencies.ipynb)|[パイプラインを構築する](../SECTIONS/02_experimental_phase/support_making_pipeline.ipynb)|[研究データを追加する](../SECTIONS/02_experimental_phase/add_research_data.ipynb)|"
   ]
  },
  {
   "cell_type": "markdown",
   "metadata": {},
   "source": [
    "## 3. 後期フェーズ\n",
    "後期フェーズでは研究後のキュレーションやデータや論文の公開をサポートする"
   ]
  },
  {
   "cell_type": "markdown",
   "metadata": {},
   "source": [
    "|||\n",
    "|:---:|:---:|\n",
    "|[キュレーション機能と連携する](../SECTIONS/03_after_research_phase/work_with_data_curation.ipynb)|[WEKO3と連携する](../SECTIONS/03_after_research_phase/work_with_weko3.ipynb)|"
   ]
  }
 ],
 "metadata": {
  "kernelspec": {
   "display_name": "Python 3",
   "language": "python",
   "name": "python3"
  },
  "language_info": {
   "codemirror_mode": {
    "name": "ipython",
    "version": 3
   },
   "file_extension": ".py",
   "mimetype": "text/x-python",
   "name": "python",
   "nbconvert_exporter": "python",
   "pygments_lexer": "ipython3",
   "version": "3.7.8"
  }
 },
 "nbformat": 4,
 "nbformat_minor": 4
}
