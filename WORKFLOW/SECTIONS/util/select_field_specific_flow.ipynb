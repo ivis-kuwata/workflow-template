{
 "cells": [
  {
   "cell_type": "markdown",
   "metadata": {},
   "source": [
    "# 研究分野に固有のフローを選択する\n",
    "\n",
    "このセクションでは、DMPに入力いただいた研究分野に基づき、分野固有のフローを選択する処理を定義しています。\n",
    "以下のセルを実行することで、DMP入力の際に選択いただいた分野以外のフローが削除されます。"
   ]
  },
  {
   "cell_type": "code",
   "execution_count": null,
   "metadata": {},
   "outputs": [],
   "source": [
    "##### 検証用にFLOWS以下にディレクトリを３つ切る #####\n",
    "# このセルは検証終了後に削除のこと。\n",
    "\n",
    "import os\n",
    "\n",
    "try:\n",
    "    os.mkdir('../../FLOWS/001_bio_flow')\n",
    "except BaseException:\n",
    "    pass\n",
    "\n",
    "try:\n",
    "    os.mkdir('../../FLOWS/002_neuro_flow')\n",
    "except BaseException:\n",
    "    pass\n",
    "\n",
    "try:\n",
    "    os.mkdir('../../FLOWS/003_ml_flow')\n",
    "except BaseException:\n",
    "    pass\n"
   ]
  },
  {
   "cell_type": "code",
   "execution_count": null,
   "metadata": {},
   "outputs": [],
   "source": [
    "# dmp.jsonに\"fields\"プロパティがある想定\n",
    "import os\n",
    "import glob\n",
    "import shutil\n",
    "\n",
    "import load\n",
    "\n",
    "# 検証のため、同階層にある\"test.json\"を指定\n",
    "FIELDS = load.get_dmp_from_outsystem('test.json')\n",
    "\n",
    "templates = glob.glob('../../FLOWS/*')\n",
    "\n",
    "# FIELDSで指定されていない分野フローを削除する処理\n",
    "for category in FIELDS['fields']:\n",
    "    for tmpl in templates:\n",
    "        if os.path.isdir(tmpl):\n",
    "            if category not in os.path.basename(tmpl):\n",
    "                shutil.rmtree(tmpl)\n"
   ]
  }
 ],
 "metadata": {
  "language_info": {
   "name": "python"
  },
  "orig_nbformat": 4
 },
 "nbformat": 4,
 "nbformat_minor": 2
}
