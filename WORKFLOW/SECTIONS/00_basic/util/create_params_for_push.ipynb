{
 "cells": [
  {
   "cell_type": "markdown",
   "metadata": {},
   "source": [
    "# datalad save&push用params.yaml作成"
   ]
  },
  {
   "cell_type": "code",
   "execution_count": 2,
   "metadata": {},
   "outputs": [],
   "source": [
    "%%sh\n",
    "mkdir ./tmp\n",
    "git remote show origin > ./tmp/remote.txt"
   ]
  },
  {
   "cell_type": "code",
   "execution_count": 8,
   "metadata": {},
   "outputs": [],
   "source": [
    "with open('./tmp/remote.txt', 'r') as f:\n",
    "    lines = [s.strip() for s in f.readlines()]\n",
    "    ssh_push_url = lines[2].replace('Push  URL: https://github.com/', 'ssh://root@dg02.dg.rcos.nii.ac.jp:3001/') # ssh_remote = lines[2].replace('Push  URL: http://dg02.dg.rcos.nii.ac.jp/', 'ssh://root@dg02.dg.rcos.nii.ac.jp:3001/')"
   ]
  },
  {
   "cell_type": "code",
   "execution_count": 22,
   "metadata": {},
   "outputs": [
    {
     "name": "stdout",
     "output_type": "stream",
     "text": [
      "{'DEFAULT_BRANCH': 'origin', 'SIBLING_NAME': 'gin', 'SSH_PUSH_URL': 'ssh://root@dg02.dg.rcos.nii.ac.jp:3001/ivis-mizuguchi/workflow-template'}\n"
     ]
    }
   ],
   "source": [
    "import yaml\n",
    "\n",
    "with open('../../params.yaml', 'w') as yf:\n",
    "    yaml.dump({\n",
    "        \"SSH_PUSH_URL\": ssh_push_url,\n",
    "        \"SIBLING_NAME\": \"gin\",\n",
    "        \"DEFAULT_BRANCH\": \"origin\"\n",
    "    }, yf, default_flow_style=False)"
   ]
  }
 ],
 "metadata": {
  "kernelspec": {
   "display_name": "Python 3",
   "language": "python",
   "name": "python3"
  },
  "language_info": {
   "codemirror_mode": {
    "name": "ipython",
    "version": 3
   },
   "file_extension": ".py",
   "mimetype": "text/x-python",
   "name": "python",
   "nbconvert_exporter": "python",
   "pygments_lexer": "ipython3",
   "version": "3.7.8"
  }
 },
 "nbformat": 4,
 "nbformat_minor": 4
}
